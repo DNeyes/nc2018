{
 "cells": [
  {
   "cell_type": "code",
   "execution_count": 8,
   "metadata": {},
   "outputs": [
    {
     "name": "stdout",
     "output_type": "stream",
     "text": [
      "load success!\n",
      "25096\n",
      "(25096, 224, 224, 3)\n"
     ]
    }
   ],
   "source": [
    "import os\n",
    "from PIL import Image\n",
    "import numpy as np\n",
    "\n",
    "# This part is used to read images from directory\n",
    "# and resize it in order to adapt it to feed NN\n",
    "# all images' RGB data will be saved in variable X\n",
    "images = []*25096\n",
    "i = 0\n",
    "for imgName in os.listdir('train/'):  \n",
    "    imgPath = 'train/' + imgName\n",
    "    img = Image.open(imgPath)\n",
    "    img = img.resize((224, 224),resample = Image.LANCZOS)\n",
    "    images.insert(i,np.array(img))\n",
    "    i=i+1\n",
    "\n",
    "print('load success!')\n",
    "X = np.array(images)\n",
    "print (len(images))\n",
    "print (X.shape)"
   ]
  },
  {
   "cell_type": "code",
   "execution_count": 9,
   "metadata": {},
   "outputs": [
    {
     "name": "stdout",
     "output_type": "stream",
     "text": [
      "(25096, 4)\n"
     ]
    }
   ],
   "source": [
    "import csv\n",
    "\n",
    "# This part is used to read CSV file\n",
    "# and coordinate of output will be rescaled\n",
    "# all output will be saved in Y_resize\n",
    "Y = []*25096\n",
    "i = 0\n",
    "with open('annotations.csv') as f:\n",
    "    f_csv = csv.reader(f)\n",
    "    for row in f_csv:\n",
    "        Y.insert(i,(row[1:5]))    # ingore file name in each line\n",
    "        i = i + 1\n",
    "    f.close()\n",
    "\n",
    "Y_resize = np.array(Y,dtype = int)*224/500\n",
    "print(Y_resize.shape)\n",
    "        "
   ]
  },
  {
   "cell_type": "code",
   "execution_count": 10,
   "metadata": {},
   "outputs": [],
   "source": [
    "from sklearn.model_selection import train_test_split \n",
    "\n",
    "# This part is used to divide data into train set and cross-validation set two parts\n",
    "# 20 % of data will be used to valid the performance of our model\n",
    "X_train, X_valid, Y_train, Y_valid = train_test_split(X, Y_resize, test_size=0.2, random_state=2)"
   ]
  },
  {
   "cell_type": "code",
   "execution_count": 11,
   "metadata": {
    "scrolled": true
   },
   "outputs": [
    {
     "name": "stdout",
     "output_type": "stream",
     "text": [
      "(20076, 224, 224, 3)\n",
      "(20076, 4)\n",
      "(5020, 224, 224, 3)\n",
      "(5020, 4)\n"
     ]
    }
   ],
   "source": [
    "import h5py \n",
    "\n",
    "# This part is used to save data in hdf5 files\n",
    "# which can be easily loaded and assigned to numpy array\n",
    "\n",
    "# Create a new file \n",
    "f = h5py.File('train.h5', 'w') \n",
    "f.create_dataset('X_train',data = X_train) \n",
    "f.create_dataset('Y_train',data = Y_train) \n",
    "f.close() \n",
    "\n",
    "# Load hdf5 dataset\n",
    "f = h5py.File('train.h5', 'r') \n",
    "X0 = np.array(f['X_train'][:])\n",
    "Y0 = np.array(f['Y_train'][:]) \n",
    "f.close()   \n",
    "\n",
    "# Create a new file \n",
    "f = h5py.File('valid.h5', 'w') \n",
    "f.create_dataset('X_valid',data = X_valid) \n",
    "f.create_dataset('Y_valid',data = Y_valid) \n",
    "f.close()\n",
    "\n",
    "# Load hdf5 dataset\n",
    "f = h5py.File('valid.h5', 'r') \n",
    "X1 = np.array(f['X_valid'][:])\n",
    "Y1 = np.array(f['Y_valid'][:]) \n",
    "f.close()\n",
    "\n",
    "print (X0.shape)\n",
    "print (Y0.shape)\n",
    "print (X1.shape)\n",
    "print (Y1.shape)"
   ]
  }
 ],
 "metadata": {
  "kernelspec": {
   "display_name": "Python 3",
   "language": "python",
   "name": "python3"
  },
  "language_info": {
   "codemirror_mode": {
    "name": "ipython",
    "version": 3
   },
   "file_extension": ".py",
   "mimetype": "text/x-python",
   "name": "python",
   "nbconvert_exporter": "python",
   "pygments_lexer": "ipython3",
   "version": "3.6.7"
  }
 },
 "nbformat": 4,
 "nbformat_minor": 2
}
